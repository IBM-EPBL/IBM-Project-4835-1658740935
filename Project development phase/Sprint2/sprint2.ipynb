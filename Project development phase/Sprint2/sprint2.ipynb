{
  "nbformat": 4,
  "nbformat_minor": 0,
  "metadata": {
    "colab": {
      "provenance": []
    },
    "kernelspec": {
      "name": "python3",
      "display_name": "Python 3"
    },
    "language_info": {
      "name": "python"
    }
  },
  "cells": [
    {
      "cell_type": "code",
      "source": [
        "from google.colab import drive\n",
        "drive.mount('/content/drive')"
      ],
      "metadata": {
        "colab": {
          "base_uri": "https://localhost:8080/"
        },
        "id": "6Uxkd0eDv1Vw",
        "outputId": "f3cf25ff-31db-493b-e383-7b3d0a4a58fb"
      },
      "execution_count": null,
      "outputs": [
        {
          "output_type": "stream",
          "name": "stdout",
          "text": [
            "Mounted at /content/drive\n"
          ]
        }
      ]
    },
    {
      "cell_type": "markdown",
      "source": [
        "import keras libraries"
      ],
      "metadata": {
        "id": "XhhYyNMJtB5p"
      }
    },
    {
      "cell_type": "code",
      "execution_count": null,
      "metadata": {
        "id": "q098VxVCodtp"
      },
      "outputs": [],
      "source": [
        "\n",
        "from keras.models import Sequential\n",
        "from keras.layers import Dense\n",
        "from keras.layers import Convolution2D\n",
        "from keras.layers import MaxPooling2D\n",
        "from keras.layers import Flatten"
      ]
    },
    {
      "cell_type": "markdown",
      "source": [
        "image preprocessing(or) image augmentation"
      ],
      "metadata": {
        "id": "DiFqHBqGt5o2"
      }
    },
    {
      "cell_type": "code",
      "source": [
        "from keras.preprocessing.image import ImageDataGenerator"
      ],
      "metadata": {
        "id": "kLGRJsQIt6wx"
      },
      "execution_count": null,
      "outputs": []
    },
    {
      "cell_type": "code",
      "source": [
        "train_datagen = ImageDataGenerator(rescale=1./255,shear_range=0.2,zoom_range=0.2,horizontal_flip=True,vertical_flip=True)\n",
        "#rescale => rescaling pixel value from 0 to 255 to 0 to 1\n",
        "#shear_range=> counter clock wise rotation(anti clock)"
      ],
      "metadata": {
        "id": "y7L2bOaiuCXd"
      },
      "execution_count": null,
      "outputs": []
    },
    {
      "cell_type": "code",
      "source": [
        "test_datagen = ImageDataGenerator(rescale=1./255)"
      ],
      "metadata": {
        "id": "fQKDMypmuGHG"
      },
      "execution_count": null,
      "outputs": []
    },
    {
      "cell_type": "code",
      "source": [
        "x_train = train_datagen.flow_from_directory(r'/content/drive/MyDrive/content/TRAIN_SET/TRAIN_SET',target_size=(64, 64),batch_size=5,color_mode='rgb',class_mode='sparse')\n",
        "#performing data agumentation to test data\n",
        "x_test = test_datagen.flow_from_directory(r'/content/drive/MyDrive/content/TEST_SET/TEST_SET',target_size=(64, 64),batch_size=5,color_mode='rgb',class_mode='sparse') "
      ],
      "metadata": {
        "colab": {
          "base_uri": "https://localhost:8080/"
        },
        "id": "WtLwGYqBuOJq",
        "outputId": "a6a957ab-8f2c-4308-821a-a2f6f0509155"
      },
      "execution_count": null,
      "outputs": [
        {
          "output_type": "stream",
          "name": "stdout",
          "text": [
            "Found 2626 images belonging to 5 classes.\n",
            "Found 1055 images belonging to 5 classes.\n"
          ]
        }
      ]
    },
    {
      "cell_type": "code",
      "source": [
        "x_train.class_indices"
      ],
      "metadata": {
        "colab": {
          "base_uri": "https://localhost:8080/"
        },
        "id": "1hvVapMKwCsv",
        "outputId": "0992c7d3-59f6-4e32-c0e1-f0a8a2ee2559"
      },
      "execution_count": null,
      "outputs": [
        {
          "output_type": "execute_result",
          "data": {
            "text/plain": [
              "{'APPLES': 0, 'BANANA': 1, 'ORANGE': 2, 'PINEAPPLE': 3, 'WATERMELON': 4}"
            ]
          },
          "metadata": {},
          "execution_count": 14
        }
      ]
    },
    {
      "cell_type": "code",
      "source": [
        "#checking the number of classes\n",
        "x_test.class_indices"
      ],
      "metadata": {
        "colab": {
          "base_uri": "https://localhost:8080/"
        },
        "id": "8yQBL-XWwHYo",
        "outputId": "70f2fa88-0d22-450a-9c38-5b1339671823"
      },
      "execution_count": null,
      "outputs": [
        {
          "output_type": "execute_result",
          "data": {
            "text/plain": [
              "{'APPLES': 0, 'BANANA': 1, 'ORANGE': 2, 'PINEAPPLE': 3, 'WATERMELON': 4}"
            ]
          },
          "metadata": {},
          "execution_count": 16
        }
      ]
    },
    {
      "cell_type": "code",
      "source": [
        "from collections import Counter as c\n",
        "c(x_train .labels)"
      ],
      "metadata": {
        "colab": {
          "base_uri": "https://localhost:8080/"
        },
        "id": "5kkwGjMlwXyN",
        "outputId": "31e37e74-8c0c-4412-c39d-ff9a57a0326f"
      },
      "execution_count": null,
      "outputs": [
        {
          "output_type": "execute_result",
          "data": {
            "text/plain": [
              "Counter({0: 606, 1: 445, 2: 479, 3: 621, 4: 475})"
            ]
          },
          "metadata": {},
          "execution_count": 17
        }
      ]
    },
    {
      "cell_type": "code",
      "source": [
        "#Initializing the model\n",
        "model = Sequential()"
      ],
      "metadata": {
        "id": "yeE5JqRUwakD"
      },
      "execution_count": null,
      "outputs": []
    },
    {
      "cell_type": "markdown",
      "source": [
        " Add First convolution layer"
      ],
      "metadata": {
        "id": "cL1tOODTweAV"
      }
    },
    {
      "cell_type": "code",
      "source": [
        "model.add(Convolution2D(32,(3,3),input_shape=(64,64,3),activation=\"relu\"))\n",
        "# 32 indicates => no of feature detectors\n",
        "#(3,3)=> kernel size (feature detector size)"
      ],
      "metadata": {
        "id": "48y_JaKIwgcz"
      },
      "execution_count": null,
      "outputs": []
    },
    {
      "cell_type": "markdown",
      "source": [
        " Add Maxpooling layer"
      ],
      "metadata": {
        "id": "qeHVVj2pwogL"
      }
    },
    {
      "cell_type": "code",
      "source": [
        "model.add(MaxPooling2D(pool_size=(2,2)))"
      ],
      "metadata": {
        "id": "BlqItMBPwnD_"
      },
      "execution_count": null,
      "outputs": []
    },
    {
      "cell_type": "markdown",
      "source": [
        "Second convolution layer and pooling"
      ],
      "metadata": {
        "id": "SL1tnudIw1fj"
      }
    },
    {
      "cell_type": "code",
      "source": [
        "model.add(Convolution2D(32,(3,3),activation='relu'))"
      ],
      "metadata": {
        "id": "9WsKCHy2w2df"
      },
      "execution_count": null,
      "outputs": []
    },
    {
      "cell_type": "code",
      "source": [
        "model.add(MaxPooling2D(pool_size=(2,2)))"
      ],
      "metadata": {
        "id": "oKg9BQwOw6dl"
      },
      "execution_count": null,
      "outputs": []
    },
    {
      "cell_type": "markdown",
      "source": [
        "Flattening the layers"
      ],
      "metadata": {
        "id": "kXqbX8UXw9lj"
      }
    },
    {
      "cell_type": "code",
      "source": [
        "model.add(Flatten())"
      ],
      "metadata": {
        "id": "9kMWYwHcw-wg"
      },
      "execution_count": null,
      "outputs": []
    },
    {
      "cell_type": "code",
      "source": [
        "model.add(Dense(units=128,activation='relu'))"
      ],
      "metadata": {
        "id": "Akc-Ocf-xDXv"
      },
      "execution_count": null,
      "outputs": []
    },
    {
      "cell_type": "code",
      "source": [
        "model.add(Dense(units=5,activation='softmax'))"
      ],
      "metadata": {
        "id": "2mLa1j90xHL1"
      },
      "execution_count": null,
      "outputs": []
    },
    {
      "cell_type": "code",
      "source": [
        "model.summary()"
      ],
      "metadata": {
        "colab": {
          "base_uri": "https://localhost:8080/"
        },
        "id": "ArT6X56NxKQM",
        "outputId": "04af5049-e8a4-41bd-e184-df6ed3a2f171"
      },
      "execution_count": null,
      "outputs": [
        {
          "output_type": "stream",
          "name": "stdout",
          "text": [
            "Model: \"sequential\"\n",
            "_________________________________________________________________\n",
            " Layer (type)                Output Shape              Param #   \n",
            "=================================================================\n",
            " conv2d (Conv2D)             (None, 62, 62, 32)        896       \n",
            "                                                                 \n",
            " max_pooling2d (MaxPooling2D  (None, 31, 31, 32)       0         \n",
            " )                                                               \n",
            "                                                                 \n",
            " conv2d_1 (Conv2D)           (None, 29, 29, 32)        9248      \n",
            "                                                                 \n",
            " max_pooling2d_1 (MaxPooling  (None, 14, 14, 32)       0         \n",
            " 2D)                                                             \n",
            "                                                                 \n",
            " flatten (Flatten)           (None, 6272)              0         \n",
            "                                                                 \n",
            " dense (Dense)               (None, 128)               802944    \n",
            "                                                                 \n",
            " dense_1 (Dense)             (None, 5)                 645       \n",
            "                                                                 \n",
            "=================================================================\n",
            "Total params: 813,733\n",
            "Trainable params: 813,733\n",
            "Non-trainable params: 0\n",
            "_________________________________________________________________\n"
          ]
        }
      ]
    },
    {
      "cell_type": "markdown",
      "source": [
        "Adding dense layer"
      ],
      "metadata": {
        "id": "qc-Rn0ZLxZhG"
      }
    },
    {
      "cell_type": "code",
      "source": [
        "model.add(Dense(units=300,kernel_initializer=\"random_uniform\",activation=\"relu\"))\n",
        "model.add(Dense(units=200,kernel_initializer=\"random_uniform\",activation=\"relu\"))"
      ],
      "metadata": {
        "id": "3D92w4m1xYZP"
      },
      "execution_count": null,
      "outputs": []
    },
    {
      "cell_type": "markdown",
      "source": [
        "output layer"
      ],
      "metadata": {
        "id": "9rn2iXoaxndd"
      }
    },
    {
      "cell_type": "code",
      "source": [
        "model.add(Dense(units=4,kernel_initializer=\"random_uniform\",activation=\"softmax\"))\n",
        "len(x_train)"
      ],
      "metadata": {
        "colab": {
          "base_uri": "https://localhost:8080/"
        },
        "id": "jjSfZCKhxjpB",
        "outputId": "de0bb77c-4c6d-42c3-d3e0-286628296178"
      },
      "execution_count": null,
      "outputs": [
        {
          "output_type": "execute_result",
          "data": {
            "text/plain": [
              "526"
            ]
          },
          "metadata": {},
          "execution_count": 28
        }
      ]
    },
    {
      "cell_type": "code",
      "source": [
        "model.add(Dense(units=128,activation=\"relu\",kernel_initializer=\"random_uniform\"))\n",
        "model.add(Dense(units=1,activation=\"sigmoid\",kernel_initializer=\"random_uniform\"))"
      ],
      "metadata": {
        "id": "JR10cc_dxzS6"
      },
      "execution_count": null,
      "outputs": []
    },
    {
      "cell_type": "code",
      "source": [
        "#Compile the model\n",
        "model.compile(loss=\"binary_crossentropy\",optimizer=\"adam\",metrics=['accuracy'])"
      ],
      "metadata": {
        "id": "V8O7Bda6x0oI"
      },
      "execution_count": null,
      "outputs": []
    },
    {
      "cell_type": "code",
      "source": [
        "#Train the model\n",
        "model.fit_generator(x_train,steps_per_epoch=len(x_train), validation_data=x_test, validation_steps=len(x_test), epochs= 20)"
      ],
      "metadata": {
        "colab": {
          "base_uri": "https://localhost:8080/"
        },
        "id": "-hDmlQfOyo2C",
        "outputId": "8dc6669b-110e-4a1a-ac76-ad91fa81607a"
      },
      "execution_count": null,
      "outputs": [
        {
          "output_type": "stream",
          "name": "stderr",
          "text": [
            "/usr/local/lib/python3.7/dist-packages/ipykernel_launcher.py:2: UserWarning: `Model.fit_generator` is deprecated and will be removed in a future version. Please use `Model.fit`, which supports generators.\n",
            "  \n"
          ]
        },
        {
          "output_type": "stream",
          "name": "stdout",
          "text": [
            "Epoch 1/20\n",
            "526/526 [==============================] - 796s 2s/step - loss: -14.9276 - accuracy: 0.1691 - val_loss: -47.8558 - val_accuracy: 0.2720\n",
            "Epoch 2/20\n",
            "526/526 [==============================] - 36s 68ms/step - loss: -106.1334 - accuracy: 0.1695 - val_loss: -186.3549 - val_accuracy: 0.2720\n",
            "Epoch 3/20\n",
            "526/526 [==============================] - 33s 63ms/step - loss: -275.7166 - accuracy: 0.1695 - val_loss: -399.8077 - val_accuracy: 0.2720\n",
            "Epoch 4/20\n",
            "526/526 [==============================] - 34s 65ms/step - loss: -511.6030 - accuracy: 0.1695 - val_loss: -676.9576 - val_accuracy: 0.2720\n",
            "Epoch 5/20\n",
            "526/526 [==============================] - 34s 65ms/step - loss: -805.0386 - accuracy: 0.1695 - val_loss: -1009.6125 - val_accuracy: 0.2720\n",
            "Epoch 6/20\n",
            "526/526 [==============================] - 34s 65ms/step - loss: -1149.5615 - accuracy: 0.1695 - val_loss: -1391.8090 - val_accuracy: 0.2720\n",
            "Epoch 7/20\n",
            "526/526 [==============================] - 35s 66ms/step - loss: -1544.2678 - accuracy: 0.1695 - val_loss: -1830.4946 - val_accuracy: 0.2720\n",
            "Epoch 8/20\n",
            "526/526 [==============================] - 33s 63ms/step - loss: -1984.6238 - accuracy: 0.1695 - val_loss: -2311.2935 - val_accuracy: 0.2720\n",
            "Epoch 9/20\n",
            "526/526 [==============================] - 35s 66ms/step - loss: -2470.1567 - accuracy: 0.1695 - val_loss: -2838.5344 - val_accuracy: 0.2720\n",
            "Epoch 10/20\n",
            "526/526 [==============================] - 36s 69ms/step - loss: -3002.5903 - accuracy: 0.1695 - val_loss: -3415.8103 - val_accuracy: 0.2720\n",
            "Epoch 11/20\n",
            "526/526 [==============================] - 33s 63ms/step - loss: -3573.6074 - accuracy: 0.1695 - val_loss: -4032.7537 - val_accuracy: 0.2720\n",
            "Epoch 12/20\n",
            "526/526 [==============================] - 35s 66ms/step - loss: -4183.8643 - accuracy: 0.1695 - val_loss: -4685.3794 - val_accuracy: 0.2720\n",
            "Epoch 13/20\n",
            "526/526 [==============================] - 33s 64ms/step - loss: -4836.9526 - accuracy: 0.1695 - val_loss: -5390.3789 - val_accuracy: 0.2720\n",
            "Epoch 14/20\n",
            "526/526 [==============================] - 34s 64ms/step - loss: -5531.1699 - accuracy: 0.1695 - val_loss: -6131.5884 - val_accuracy: 0.2720\n",
            "Epoch 15/20\n",
            "526/526 [==============================] - 34s 64ms/step - loss: -6260.8403 - accuracy: 0.1695 - val_loss: -6907.9893 - val_accuracy: 0.2720\n",
            "Epoch 16/20\n",
            "526/526 [==============================] - 34s 64ms/step - loss: -7027.8003 - accuracy: 0.1695 - val_loss: -7728.8042 - val_accuracy: 0.2720\n",
            "Epoch 17/20\n",
            "526/526 [==============================] - 34s 65ms/step - loss: -7837.2407 - accuracy: 0.1695 - val_loss: -8593.9082 - val_accuracy: 0.2720\n",
            "Epoch 18/20\n",
            "526/526 [==============================] - 34s 64ms/step - loss: -8681.7695 - accuracy: 0.1695 - val_loss: -9484.8145 - val_accuracy: 0.2720\n",
            "Epoch 19/20\n",
            "526/526 [==============================] - 33s 63ms/step - loss: -9563.8672 - accuracy: 0.1695 - val_loss: -10435.9004 - val_accuracy: 0.2720\n",
            "Epoch 20/20\n",
            "526/526 [==============================] - 34s 65ms/step - loss: -10490.1289 - accuracy: 0.1695 - val_loss: -11410.9297 - val_accuracy: 0.2720\n"
          ]
        },
        {
          "output_type": "execute_result",
          "data": {
            "text/plain": [
              "<keras.callbacks.History at 0x7f46c5c28310>"
            ]
          },
          "metadata": {},
          "execution_count": 31
        }
      ]
    },
    {
      "cell_type": "code",
      "source": [
        "model.save(\"nutrition.h5\")"
      ],
      "metadata": {
        "id": "YV5Uj9pizXz9"
      },
      "execution_count": null,
      "outputs": []
    },
    {
      "cell_type": "markdown",
      "source": [
        "Prediction the result"
      ],
      "metadata": {
        "id": "fZb6oD9XOUo-"
      }
    },
    {
      "cell_type": "code",
      "source": [
        "from tensorflow.keras.models import load_model\n",
        "from keras.preprocessing  import image\n",
        "model =load_model(\"nutrition.h5\")"
      ],
      "metadata": {
        "id": "lTgwQuAlLBa-"
      },
      "execution_count": null,
      "outputs": []
    },
    {
      "cell_type": "code",
      "source": [
        "import numpy as np"
      ],
      "metadata": {
        "id": "o4jazNBOObcu"
      },
      "execution_count": null,
      "outputs": []
    },
    {
      "cell_type": "code",
      "source": [
        "from tensorflow.keras.utils import load_img\n",
        "from tensorflow.keras.utils import img_to_array\n",
        "#loading of the image\n",
        "img = load_img(r'/content/drive/MyDrive/content/TEST_SET/TEST_SET/BANANA/32_100.jpg', grayscale=False,target_size=(64,64))\n",
        "#image to array \n",
        "x = img_to_array(img)\n",
        "#changing the shape\n",
        "x= np.expand_dims(x,axis = 0)\n",
        "predict_x=model.predict(x)\n",
        "classes_x=np.argmax(predict_x,axis = -1)\n",
        "classes_x[0]"
      ],
      "metadata": {
        "colab": {
          "base_uri": "https://localhost:8080/"
        },
        "id": "_hH2sFs7OiAG",
        "outputId": "95c17834-7433-41f3-c427-bd19d57f4998"
      },
      "execution_count": null,
      "outputs": [
        {
          "output_type": "stream",
          "name": "stdout",
          "text": [
            "1/1 [==============================] - 0s 24ms/step\n"
          ]
        },
        {
          "output_type": "execute_result",
          "data": {
            "text/plain": [
              "0"
            ]
          },
          "metadata": {},
          "execution_count": 42
        }
      ]
    },
    {
      "cell_type": "code",
      "source": [
        "index=['BANANA','APPLES', 'ORANGE', 'PINEAPPLE', 'WATERMELON']\n",
        "result=str(index[classes_x[0]])\n",
        "result"
      ],
      "metadata": {
        "colab": {
          "base_uri": "https://localhost:8080/",
          "height": 36
        },
        "id": "sW0aExjmPPLE",
        "outputId": "ffd16b01-0e6b-49e7-bc2e-cbead141f647"
      },
      "execution_count": null,
      "outputs": [
        {
          "output_type": "execute_result",
          "data": {
            "text/plain": [
              "'BANANA'"
            ],
            "application/vnd.google.colaboratory.intrinsic+json": {
              "type": "string"
            }
          },
          "metadata": {},
          "execution_count": 43
        }
      ]
    }
  ]
}